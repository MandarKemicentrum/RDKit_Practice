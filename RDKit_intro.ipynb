{
  "nbformat": 4,
  "nbformat_minor": 0,
  "metadata": {
    "colab": {
      "name": "RDKit_intro.ipynb",
      "provenance": [],
      "collapsed_sections": [],
      "include_colab_link": true
    },
    "kernelspec": {
      "name": "python3",
      "display_name": "Python 3"
    }
  },
  "cells": [
    {
      "cell_type": "markdown",
      "metadata": {
        "id": "view-in-github",
        "colab_type": "text"
      },
      "source": [
        "<a href=\"https://colab.research.google.com/github/binary-alkemi/RDKit_Practice/blob/master/RDKit_intro.ipynb\" target=\"_parent\"><img src=\"https://colab.research.google.com/assets/colab-badge.svg\" alt=\"Open In Colab\"/></a>"
      ]
    },
    {
      "cell_type": "code",
      "metadata": {
        "id": "Q-dgRhRkwAb0",
        "colab": {
          "base_uri": "https://localhost:8080/"
        },
        "outputId": "1d48f732-1a27-475a-b609-816ff3800536"
      },
      "source": [
        "# Install RDKit. \n",
        "!pip install kora\n",
        "import kora.install.rdkit"
      ],
      "execution_count": 62,
      "outputs": [
        {
          "output_type": "stream",
          "text": [
            "Requirement already satisfied: kora in /usr/local/lib/python3.6/dist-packages (0.9.13)\n",
            "Requirement already satisfied: ipython in /usr/local/lib/python3.6/dist-packages (from kora) (5.5.0)\n",
            "Requirement already satisfied: fastcore in /usr/local/lib/python3.6/dist-packages (from kora) (1.3.10)\n",
            "Requirement already satisfied: decorator in /usr/local/lib/python3.6/dist-packages (from ipython->kora) (4.4.2)\n",
            "Requirement already satisfied: pexpect; sys_platform != \"win32\" in /usr/local/lib/python3.6/dist-packages (from ipython->kora) (4.8.0)\n",
            "Requirement already satisfied: setuptools>=18.5 in /usr/local/lib/python3.6/dist-packages (from ipython->kora) (50.3.2)\n",
            "Requirement already satisfied: pygments in /usr/local/lib/python3.6/dist-packages (from ipython->kora) (2.6.1)\n",
            "Requirement already satisfied: traitlets>=4.2 in /usr/local/lib/python3.6/dist-packages (from ipython->kora) (4.3.3)\n",
            "Requirement already satisfied: pickleshare in /usr/local/lib/python3.6/dist-packages (from ipython->kora) (0.7.5)\n",
            "Requirement already satisfied: simplegeneric>0.8 in /usr/local/lib/python3.6/dist-packages (from ipython->kora) (0.8.1)\n",
            "Requirement already satisfied: prompt-toolkit<2.0.0,>=1.0.4 in /usr/local/lib/python3.6/dist-packages (from ipython->kora) (1.0.18)\n",
            "Requirement already satisfied: packaging in /usr/local/lib/python3.6/dist-packages (from fastcore->kora) (20.4)\n",
            "Requirement already satisfied: pip in /usr/local/lib/python3.6/dist-packages (from fastcore->kora) (19.3.1)\n",
            "Requirement already satisfied: ptyprocess>=0.5 in /usr/local/lib/python3.6/dist-packages (from pexpect; sys_platform != \"win32\"->ipython->kora) (0.6.0)\n",
            "Requirement already satisfied: ipython-genutils in /usr/local/lib/python3.6/dist-packages (from traitlets>=4.2->ipython->kora) (0.2.0)\n",
            "Requirement already satisfied: six in /usr/local/lib/python3.6/dist-packages (from traitlets>=4.2->ipython->kora) (1.15.0)\n",
            "Requirement already satisfied: wcwidth in /usr/local/lib/python3.6/dist-packages (from prompt-toolkit<2.0.0,>=1.0.4->ipython->kora) (0.2.5)\n",
            "Requirement already satisfied: pyparsing>=2.0.2 in /usr/local/lib/python3.6/dist-packages (from packaging->fastcore->kora) (2.4.7)\n"
          ],
          "name": "stdout"
        }
      ]
    },
    {
      "cell_type": "code",
      "metadata": {
        "id": "RXg_4dQFwKPg"
      },
      "source": [
        "from rdkit import Chem\n",
        "from rdkit.Chem import Draw\n",
        "from rdkit.Chem.Draw import IPythonConsole\n",
        "from rdkit.Chem import Descriptors\n",
        "from rdkit.Chem import AllChem\n",
        "from rdkit import DataStructs\n",
        "import numpy as np"
      ],
      "execution_count": 63,
      "outputs": []
    },
    {
      "cell_type": "code",
      "metadata": {
        "colab": {
          "base_uri": "https://localhost:8080/",
          "height": 35
        },
        "id": "Hgi8uI6zGPNc",
        "outputId": "0f3ee41d-c041-435f-b4f0-685411ee63c3"
      },
      "source": [
        "##Confirming RDKit version\n",
        "from rdkit import rdBase\n",
        "rdBase.rdkitVersion"
      ],
      "execution_count": 64,
      "outputs": [
        {
          "output_type": "execute_result",
          "data": {
            "application/vnd.google.colaboratory.intrinsic+json": {
              "type": "string"
            },
            "text/plain": [
              "'2020.03.3'"
            ]
          },
          "metadata": {
            "tags": []
          },
          "execution_count": 64
        }
      ]
    },
    {
      "cell_type": "code",
      "metadata": {
        "colab": {
          "base_uri": "https://localhost:8080/",
          "height": 167
        },
        "id": "feH0od_NGOGi",
        "outputId": "d62940c7-4f08-435e-8bed-d72f2d53ca41"
      },
      "source": [
        "mol = Chem.MolFromSmiles('CCCC')\n",
        "mol"
      ],
      "execution_count": 65,
      "outputs": [
        {
          "output_type": "execute_result",
          "data": {
            "image/png": "[encoded data removed]",
            "text/plain": [
              "<rdkit.Chem.rdchem.Mol at 0x7fb313e24350>"
            ]
          },
          "metadata": {
            "tags": []
          },
          "execution_count": 65
        }
      ]
    },
    {
      "cell_type": "code",
      "metadata": {
        "colab": {
          "base_uri": "https://localhost:8080/",
          "height": 35
        },
        "id": "RGKRC0lJJYW2",
        "outputId": "41f8d84a-89d4-46dd-ef2c-d0f1f5a3baeb"
      },
      "source": [
        "s = Chem.MolToSmiles(mol)\n",
        "s"
      ],
      "execution_count": 66,
      "outputs": [
        {
          "output_type": "execute_result",
          "data": {
            "application/vnd.google.colaboratory.intrinsic+json": {
              "type": "string"
            },
            "text/plain": [
              "'CCCC'"
            ]
          },
          "metadata": {
            "tags": []
          },
          "execution_count": 66
        }
      ]
    },
    {
      "cell_type": "code",
      "metadata": {
        "colab": {
          "base_uri": "https://localhost:8080/"
        },
        "id": "wsTvxKMyJzqn",
        "outputId": "05f41619-9bcb-43cd-bf01-395822241088"
      },
      "source": [
        "mw = Descriptors.MolWt(mol)\n",
        "mw"
      ],
      "execution_count": 67,
      "outputs": [
        {
          "output_type": "execute_result",
          "data": {
            "text/plain": [
              "58.123999999999995"
            ]
          },
          "metadata": {
            "tags": []
          },
          "execution_count": 67
        }
      ]
    },
    {
      "cell_type": "code",
      "metadata": {
        "id": "LGwOq26_J9sL"
      },
      "source": [
        "## last two are canonical and isomeric SMILES for L-Cysteine. See the difference in images below.\n",
        "smiles_list = ['CC(C(=O)O)N' , 'C1=C(NC=N1)CC(C(=O)O)N' , 'C(C(C(=O)O)N)S', 'C([C@@H](C(=O)O)N)S']"
      ],
      "execution_count": 68,
      "outputs": []
    },
    {
      "cell_type": "code",
      "metadata": {
        "colab": {
          "base_uri": "https://localhost:8080/",
          "height": 417
        },
        "id": "kxnWsgN9O5ZR",
        "outputId": "0f9040c3-6e9e-4ba1-c3af-41785a5c2684"
      },
      "source": [
        "mol_list = []\n",
        "for x in smiles_list:\n",
        "  mol1 = Chem.MolFromSmiles(x)\n",
        "  mol_list.append(mol1)\n",
        "\n",
        "img = Draw.MolsToGridImage(mol_list, molsPerRow=2)\n",
        "img"
      ],
      "execution_count": 69,
      "outputs": [
        {
          "output_type": "execute_result",
          "data": {
            "image/png": "[encoded data removed]",
            "text/plain": [
              "<PIL.PngImagePlugin.PngImageFile image mode=RGB size=400x400 at 0x7FB313E5AD68>"
            ]
          },
          "metadata": {
            "tags": []
          },
          "execution_count": 69
        }
      ]
    },
    {
      "cell_type": "code",
      "metadata": {
        "id": "2rP1XWcASQIp"
      },
      "source": [
        "pattern = Chem.MolFromSmarts('[r5]')"
      ],
      "execution_count": 70,
      "outputs": []
    },
    {
      "cell_type": "code",
      "metadata": {
        "colab": {
          "base_uri": "https://localhost:8080/"
        },
        "id": "CQaIr6RuPBaF",
        "outputId": "e0363dd4-2dde-4010-ef49-1253901ba85c"
      },
      "source": [
        "for x in mol_list:\n",
        "  print(x.HasSubstructMatch(pattern))"
      ],
      "execution_count": 71,
      "outputs": [
        {
          "output_type": "stream",
          "text": [
            "False\n",
            "True\n",
            "False\n",
            "False\n"
          ],
          "name": "stdout"
        }
      ]
    },
    {
      "cell_type": "code",
      "metadata": {
        "colab": {
          "base_uri": "https://localhost:8080/",
          "height": 167
        },
        "id": "Cras2DFnVeLA",
        "outputId": "79c45fa5-8a8a-4295-886e-556f31b845c2"
      },
      "source": [
        "mol_list[0]"
      ],
      "execution_count": 72,
      "outputs": [
        {
          "output_type": "execute_result",
          "data": {
            "image/png": "[encoded data removed]",
            "text/plain": [
              "<rdkit.Chem.rdchem.Mol at 0x7fb3143177b0>"
            ]
          },
          "metadata": {
            "tags": []
          },
          "execution_count": 72
        }
      ]
    },
    {
      "cell_type": "code",
      "metadata": {
        "colab": {
          "base_uri": "https://localhost:8080/"
        },
        "id": "VqvSs32nS2LD",
        "outputId": "298c8561-bd47-4b4f-e030-c117d6916cfe"
      },
      "source": [
        "## empty dictionary\n",
        "bi = {}\n",
        "## \n",
        "glycine = mol_list[0]\n",
        "\n",
        "## input: molecule, number of neighbouring bonds, number of bits, \n",
        "## VIMP : assigning bitInfo to empty dictionary\n",
        "\n",
        "fp = AllChem.GetMorganFingerprintAsBitVect(glycine, 2, nBits=1024, bitInfo=bi)\n",
        "### numpy arrays with zeroes\n",
        "fp_arr = np.zeros((1,))\n",
        "## RDKit utility for overlapping arraywithzeroes and our molecule Bits to have numpy array\n",
        "DataStructs.ConvertToNumpyArray(fp, fp_arr)\n",
        "#fp_arr\n",
        "np.nonzero(fp_arr)"
      ],
      "execution_count": 80,
      "outputs": [
        {
          "output_type": "execute_result",
          "data": {
            "text/plain": [
              "(array([  1,  33, 132, 147, 283, 389, 473, 650, 786, 807, 820, 893]),)"
            ]
          },
          "metadata": {
            "tags": []
          },
          "execution_count": 80
        }
      ]
    },
    {
      "cell_type": "code",
      "metadata": {
        "colab": {
          "base_uri": "https://localhost:8080/"
        },
        "id": "d17s36VLuaM2",
        "outputId": "c5f8612c-d02d-4fad-e6e2-348ab573e2e4"
      },
      "source": [
        "list(np.nonzero(fp_arr))"
      ],
      "execution_count": 81,
      "outputs": [
        {
          "output_type": "execute_result",
          "data": {
            "text/plain": [
              "[array([  1,  33, 132, 147, 283, 389, 473, 650, 786, 807, 820, 893])]"
            ]
          },
          "metadata": {
            "tags": []
          },
          "execution_count": 81
        }
      ]
    },
    {
      "cell_type": "code",
      "metadata": {
        "colab": {
          "base_uri": "https://localhost:8080/"
        },
        "id": "a8wEHpncuoQR",
        "outputId": "dc7defa3-53b8-4861-9e3b-79f6bf72a8f6"
      },
      "source": [
        "list(fp.GetOnBits())"
      ],
      "execution_count": 82,
      "outputs": [
        {
          "output_type": "execute_result",
          "data": {
            "text/plain": [
              "[1, 33, 132, 147, 283, 389, 473, 650, 786, 807, 820, 893]"
            ]
          },
          "metadata": {
            "tags": []
          },
          "execution_count": 82
        }
      ]
    },
    {
      "cell_type": "code",
      "metadata": {
        "id": "OsTTbXDYVaPC",
        "colab": {
          "base_uri": "https://localhost:8080/",
          "height": 467
        },
        "outputId": "96e55168-c4d9-492f-d67f-514610ea819e"
      },
      "source": [
        "prints = [(glycine, x, bi) for x in fp.GetOnBits()]\n",
        "Draw.DrawMorganBits(prints, molsPerRow=4, legends=[str(x) for x in fp.GetOnBits()])"
      ],
      "execution_count": 85,
      "outputs": [
        {
          "output_type": "execute_result",
          "data": {
            "image/png": "[encoded data removed]",
            "text/plain": [
              "<PIL.PngImagePlugin.PngImageFile image mode=RGB size=600x450 at 0x7FB31AC77BE0>"
            ]
          },
          "metadata": {
            "tags": []
          },
          "execution_count": 85
        }
      ]
    },
    {
      "cell_type": "markdown",
      "metadata": {
        "id": "DjIE-pacK2XO"
      },
      "source": [
        "##**Now we will check Tanimoto Similarity between molecules**\n"
      ]
    },
    {
      "cell_type": "code",
      "metadata": {
        "colab": {
          "base_uri": "https://localhost:8080/",
          "height": 217
        },
        "id": "gwK91FM2u0lH",
        "outputId": "2e60b534-0c3c-43ca-966e-09618e9e12db"
      },
      "source": [
        "cysteine = mol_list[2]\n",
        "cyst_iso = mol_list[3]\n",
        "img = Draw.MolsToGridImage([glycine,cysteine,cyst_iso])\n",
        "img"
      ],
      "execution_count": 79,
      "outputs": [
        {
          "output_type": "execute_result",
          "data": {
            "image/png": "[encoded data removed]",
            "text/plain": [
              "<PIL.PngImagePlugin.PngImageFile image mode=RGB size=600x200 at 0x7FB313E1D6A0>"
            ]
          },
          "metadata": {
            "tags": []
          },
          "execution_count": 79
        }
      ]
    },
    {
      "cell_type": "code",
      "metadata": {
        "id": "7p0qFucg2ERt",
        "colab": {
          "base_uri": "https://localhost:8080/"
        },
        "outputId": "0d557157-88f7-4ced-dc53-eca6fcbe8440"
      },
      "source": [
        "fp2 = AllChem.GetMorganFingerprintAsBitVect(cysteine, 2, nBits=1024, bitInfo=bi)\n",
        "fp3 = AllChem.GetMorganFingerprintAsBitVect(cyst_iso, 2, nBits=1024, bitInfo=bi)\n",
        "print('cys' , list(fp2.GetOnBits()))\n",
        "print('cys_iso' , list(fp3.GetOnBits()))\n",
        "print('gly' , list(fp.GetOnBits()))\n",
        "\n",
        "## This shows isomeric or canonical both have same fingerprints."
      ],
      "execution_count": 88,
      "outputs": [
        {
          "output_type": "stream",
          "text": [
            "cys [1, 48, 80, 147, 229, 321, 389, 403, 435, 650, 786, 807, 820, 825, 893, 902]\n",
            "cys_iso [1, 48, 80, 147, 229, 321, 389, 403, 435, 650, 786, 807, 820, 825, 893, 902]\n",
            "gly [1, 33, 132, 147, 283, 389, 473, 650, 786, 807, 820, 893]\n"
          ],
          "name": "stdout"
        }
      ]
    },
    {
      "cell_type": "code",
      "metadata": {
        "id": "oUKCJE1FN2UM"
      },
      "source": [
        "# let's assign these bits to sets\n",
        "g = set(list(fp.GetOnBits()))\n",
        "c = set(list(fp2.GetOnBits()))"
      ],
      "execution_count": 89,
      "outputs": []
    },
    {
      "cell_type": "code",
      "metadata": {
        "colab": {
          "base_uri": "https://localhost:8080/"
        },
        "id": "ubA1lfhiPHRX",
        "outputId": "ca701616-6329-4649-ce2b-00c169a852ba"
      },
      "source": [
        "## getting common elements \n",
        "common = g & c\n",
        "print(common)"
      ],
      "execution_count": 90,
      "outputs": [
        {
          "output_type": "stream",
          "text": [
            "{1, 389, 807, 650, 786, 147, 820, 893}\n"
          ],
          "name": "stdout"
        }
      ]
    },
    {
      "cell_type": "code",
      "metadata": {
        "colab": {
          "base_uri": "https://localhost:8080/"
        },
        "id": "UQNc9h__PMvz",
        "outputId": "3a2e191c-ee80-4286-9b8f-12699c28a795"
      },
      "source": [
        "combined = g | c\n",
        "print(combined)"
      ],
      "execution_count": 91,
      "outputs": [
        {
          "output_type": "stream",
          "text": [
            "{1, 321, 132, 389, 902, 650, 80, 786, 147, 403, 473, 283, 33, 229, 807, 48, 435, 820, 825, 893}\n"
          ],
          "name": "stdout"
        }
      ]
    },
    {
      "cell_type": "code",
      "metadata": {
        "colab": {
          "base_uri": "https://localhost:8080/"
        },
        "id": "oOxfJHCDPsZm",
        "outputId": "9bd448a3-f3f1-4993-af64-bd0984ed7601"
      },
      "source": [
        "sim = len(common)/len(combined)\n",
        "print(sim)"
      ],
      "execution_count": 92,
      "outputs": [
        {
          "output_type": "stream",
          "text": [
            "0.4\n"
          ],
          "name": "stdout"
        }
      ]
    },
    {
      "cell_type": "code",
      "metadata": {
        "colab": {
          "base_uri": "https://localhost:8080/"
        },
        "id": "-2-gEv5iQQ_c",
        "outputId": "6b9f19bc-36e9-470d-ca0e-ba12133b03b3"
      },
      "source": [
        "print(DataStructs.TanimotoSimilarity(fp,fp2))"
      ],
      "execution_count": 93,
      "outputs": [
        {
          "output_type": "stream",
          "text": [
            "0.4\n"
          ],
          "name": "stdout"
        }
      ]
    },
    {
      "cell_type": "code",
      "metadata": {
        "id": "PX9Yz0cfQZUJ"
      },
      "source": [
        ""
      ],
      "execution_count": null,
      "outputs": []
    }
  ]
}